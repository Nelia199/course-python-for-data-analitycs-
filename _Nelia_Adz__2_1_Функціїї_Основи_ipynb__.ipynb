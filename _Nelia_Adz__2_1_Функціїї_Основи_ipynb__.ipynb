{
  "nbformat": 4,
  "nbformat_minor": 0,
  "metadata": {
    "colab": {
      "provenance": []
    },
    "kernelspec": {
      "name": "python3",
      "display_name": "Python 3"
    },
    "language_info": {
      "name": "python"
    }
  },
  "cells": [
    {
      "cell_type": "markdown",
      "source": [
        "# Домашнє завдання до теми \"Functions\""
      ],
      "metadata": {
        "id": "QtHabST6Ez_n"
      }
    },
    {
      "cell_type": "markdown",
      "source": [
        "1. Напишіть фукнцію `print_message`, яка виводить на екран \"Я програмую на Python💪\" і викличіть цю фукнцію 5 разів (найкраще це зробити в циклі).\n",
        "\n",
        "  **Увага**: фукнція має робити чітко лише зазначений функціонал. Наявність додаткового функціоналу і аргументів, які не потрібні для виконання безпосередньо завдання, буде вважатись помилкою."
      ],
      "metadata": {
        "id": "6pg_NzFq5_kO"
      }
    },
    {
      "cell_type": "code",
      "source": [
        "def print_message():\n",
        "    print(\"Я програмую на Python 💪\")\n",
        "\n",
        "for _ in range(5):\n",
        "    print_message()"
      ],
      "metadata": {
        "id": "RbXsfwI_D8ql",
        "colab": {
          "base_uri": "https://localhost:8080/"
        },
        "outputId": "7b9e5a4e-89b9-4866-f567-5b567df711e6"
      },
      "execution_count": 3,
      "outputs": [
        {
          "output_type": "stream",
          "name": "stdout",
          "text": [
            "Я програмую на Python 💪\n",
            "Я програмую на Python 💪\n",
            "Я програмую на Python 💪\n",
            "Я програмую на Python 💪\n",
            "Я програмую на Python 💪\n"
          ]
        }
      ]
    },
    {
      "cell_type": "markdown",
      "source": [
        "2. Напишіть функцію `calculation` яка приймає на вхід 4 аргументи типу int - `a`, `b`, `c`, `d` і вертає результат обчислення такої формули: $ (a + b - c) * d $.\n",
        "\n",
        "  Викличте функцію на наступному наборі аргументів і виведіть результат на екран:\n",
        "  ```\n",
        "  a = 16\n",
        "  b = 4\n",
        "  c = 9\n",
        "  d = 3\n",
        "  ```"
      ],
      "metadata": {
        "id": "oyRpWRXWBL9N"
      }
    },
    {
      "cell_type": "code",
      "source": [
        "def calculation(a, b, c, d):\n",
        "    return (a + b - c) * d\n",
        "\n",
        "a = 16\n",
        "b = 4\n",
        "c = 9\n",
        "d = 3\n",
        "\n",
        "result = calculation(a, b, c, d)\n",
        "print(\"Результат:\", result)"
      ],
      "metadata": {
        "id": "Ggt2tx6kD-LS",
        "colab": {
          "base_uri": "https://localhost:8080/"
        },
        "outputId": "2951a859-5599-4990-a673-e57adea94772"
      },
      "execution_count": 4,
      "outputs": [
        {
          "output_type": "stream",
          "name": "stdout",
          "text": [
            "Результат: 33\n"
          ]
        }
      ]
    },
    {
      "cell_type": "markdown",
      "source": [
        "3. Напишіть функцію, яка додає до аргумента 15 і вертає результат додавання. Викличте функцію, передаючи в якості аргументів кожну з наступних змінних по черзі, і виведіть кожного разу результат на екран.\n",
        "```\n",
        "x = 9\n",
        "y = 14\n",
        "z = -19\n",
        "```"
      ],
      "metadata": {
        "id": "5hf1CbllDU_t"
      }
    },
    {
      "cell_type": "code",
      "source": [
        "def add_15(number):\n",
        "    return number + 15\n",
        "x = 9\n",
        "y = 14\n",
        "z = -19\n",
        "print(\"Результат для x:\", add_15(x))\n",
        "print(\"Результат для y:\", add_15(y))\n",
        "print(\"Результат для z:\", add_15(z))"
      ],
      "metadata": {
        "id": "GvEs_nUtD_Cd",
        "colab": {
          "base_uri": "https://localhost:8080/"
        },
        "outputId": "a5b49b79-6054-4445-8941-1538c6a49ba5"
      },
      "execution_count": 5,
      "outputs": [
        {
          "output_type": "stream",
          "name": "stdout",
          "text": [
            "Результат для x: 24\n",
            "Результат для y: 29\n",
            "Результат для z: -4\n"
          ]
        }
      ]
    },
    {
      "cell_type": "markdown",
      "source": [
        "4. Напишіть функцію `multipy_numbers`, яка приймає два числа як аргументи і повертає їх добуток.\n",
        "\n",
        "  Викличіть функцію `multipy_numbers` на парах чисел\n",
        "- 10 і 2\n",
        "- 7 і 8\n",
        "- 1024 і 999.\n",
        "  \n",
        "  Виведіть результат кожного виклику.\n",
        "  При виконанні цього завдання з використанням циклу - отримаєте 2х балів за нього :)"
      ],
      "metadata": {
        "id": "bUuVBhie53uK"
      }
    },
    {
      "cell_type": "code",
      "source": [
        "def multiply_numbers(a, b):\n",
        "    return a * b\n",
        "pairs = [(10, 2), (7, 8), (1024, 999)]\n",
        "for pair in pairs:\n",
        "    result = multiply_numbers(pair[0], pair[1])\n",
        "    print(f\"Результат множення {pair[0]} і {pair[1]}: {result}\")"
      ],
      "metadata": {
        "id": "cDqrgZ4YEAKj",
        "colab": {
          "base_uri": "https://localhost:8080/"
        },
        "outputId": "248a632b-590e-4783-c9dd-7e7e630c7eb5"
      },
      "execution_count": 6,
      "outputs": [
        {
          "output_type": "stream",
          "name": "stdout",
          "text": [
            "Результат множення 10 і 2: 20\n",
            "Результат множення 7 і 8: 56\n",
            "Результат множення 1024 і 999: 1022976\n"
          ]
        }
      ]
    },
    {
      "cell_type": "markdown",
      "source": [
        "5. **Ділення з перевіркою типів.**  \n",
        "\n",
        "  1. Напишіть функцію `int_division` яка приймає на вхід два аргументи типу `int` - `a` і `b`, і виконує ділення першого аргумента на другий: `a/b`. При цьому функція перед діленням перевіряє, чи другий аргумент не дорівнює 0. Якщо другий аргумент не 0, фукнція вертає результат ділення, інакше - замість виконання ділення, вертає повідомлення на екран \"Не можу виконати ділення на 0\".\n",
        "\n",
        "    Якщо типи, надані у функцію, не `int` - функція виводить повідомлення \"Не працюю з такими типами даних.\".\n",
        "\n",
        "  2. Запустіть функцію на наступних парах чисел:\n",
        "- 12 і 6\n",
        "- 20 і 0\n",
        "- 112 і 10\n",
        "- 99 і 0\n",
        "- 11 i 1.1\n",
        "\n",
        "    і виведіть на екран повідомлення \"Результат роботи функції: \" - і далі те, що повернула функція.\n",
        "\n",
        "  3. Дайте відповідь на питання: \"Чому в деяких випадках функція повернула None?\""
      ],
      "metadata": {
        "id": "I03t46k27dDZ"
      }
    },
    {
      "cell_type": "code",
      "source": [
        "def int_division(a, b):\n",
        "    if not isinstance(a, int) or not isinstance(b, int):\n",
        "        print(\"Не працюю з такими типами даних.\")\n",
        "        return None\n",
        "    if b == 0:\n",
        "        print(\"Не можу виконати ділення на 0.\")\n",
        "        return None\n",
        "    return a / b\n",
        "pairs = [(12, 6), (20, 0), (112, 10), (99, 0), (11, 1.1)]\n",
        "\n",
        "for pair in pairs:\n",
        "    result = int_division(*pair)\n",
        "    print(f\"Результат роботи функції: {result}\")"
      ],
      "metadata": {
        "id": "1-EQhxrAEEAb",
        "colab": {
          "base_uri": "https://localhost:8080/"
        },
        "outputId": "9ba277c1-467e-4b21-9321-7b9734675976"
      },
      "execution_count": 7,
      "outputs": [
        {
          "output_type": "stream",
          "name": "stdout",
          "text": [
            "Результат роботи функції: 2.0\n",
            "Не можу виконати ділення на 0.\n",
            "Результат роботи функції: None\n",
            "Результат роботи функції: 11.2\n",
            "Не можу виконати ділення на 0.\n",
            "Результат роботи функції: None\n",
            "Не працюю з такими типами даних.\n",
            "Результат роботи функції: None\n"
          ]
        }
      ]
    }
  ]
}